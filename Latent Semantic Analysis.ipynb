{
 "cells": [
  {
   "cell_type": "code",
   "execution_count": 1,
   "metadata": {
    "collapsed": true
   },
   "outputs": [],
   "source": [
    "from sklearn.datasets import fetch_20newsgroups\n",
    "categories = ['comp.graphics']\n",
    "dataset = fetch_20newsgroups(subset='all',shuffle=True, random_state=42, categories=categories)\n",
    "corpus = dataset.data"
   ]
  },
  {
   "cell_type": "code",
   "execution_count": 2,
   "metadata": {
    "collapsed": true
   },
   "outputs": [],
   "source": [
    "import nltk\n",
    "from nltk.corpus import stopwords\n",
    "from sklearn.feature_extraction.text import TfidfVectorizer\n",
    "from sklearn.decomposition import TruncatedSVD"
   ]
  },
  {
   "cell_type": "code",
   "execution_count": 3,
   "metadata": {
    "collapsed": false
   },
   "outputs": [
    {
     "name": "stdout",
     "output_type": "stream",
     "text": [
      "[nltk_data] Downloading package stopwords to C:\\Users\\Ashish\n",
      "[nltk_data]     Jaiswal\\AppData\\Roaming\\nltk_data...\n",
      "[nltk_data]   Package stopwords is already up-to-date!\n"
     ]
    },
    {
     "data": {
      "text/plain": [
       "True"
      ]
     },
     "execution_count": 3,
     "metadata": {},
     "output_type": "execute_result"
    }
   ],
   "source": [
    "nltk.download('stopwords')"
   ]
  },
  {
   "cell_type": "code",
   "execution_count": 4,
   "metadata": {
    "collapsed": true
   },
   "outputs": [],
   "source": [
    "stopset = set(stopwords.words('english'))\n",
    "stopset.update(['lt','p','/p','br','amp','quot','field','font','normal','span','0px','rgb','style','51', \n",
    "                'spacing','text','helvetica','size','family', 'space', 'arial', 'height', 'indent', 'letter'\n",
    "                'line','none','sans','serif','transform','line','variant','weight','times', 'new','strong', 'video', 'title'\n",
    "                'white','word','letter', 'roman','0pt','16','color','12','14','21', 'neue', 'apple', 'class','00','01','10',\n",
    "                 '24','26','cs','ca','nntp','re','uk','ac','sgi','idl','pci','xv','000','20','gle','000005102000','au',\n",
    "                 '2etc0007','0007','212','000usd','0010580b','0000 213 396','001631 7051','001631','001200201pixel 2etc one',\n",
    "                 '0000 213 396','001200201pixel 2etc','00196','2etc one','\\n' ,])"
   ]
  },
  {
   "cell_type": "code",
   "execution_count": 5,
   "metadata": {
    "collapsed": false
   },
   "outputs": [
    {
     "data": {
      "text/plain": [
       "u\"From: tmc@spartan.ac.BrockU.CA (Tim Ciceran)\\nSubject: Re: Hijaak\\nOrganization: Brock University, St. Catharines Ontario\\nX-Newsreader: TIN [version 1.1 PL9]\\nLines: 15\\n\\nHaston, Donald Wayne (haston@utkvx.utk.edu) wrote:\\n: Currently, I use a shareware program called Graphics Workshop.\\n: What kinds of things will Hijaak do that these shareware programs\\n: will not do?\\n\\nI also use Graphic Workshop and the only differences that I know of are that\\nHijaak has screen capture capabilities and acn convert to/from a couple of\\nmore file formats (don't know specifically which one).  In the April 13\\nissue of PC Magazine they test the twelve best selling image capture/convert\\nutilities, including Hijaak.\\n\\nTMC.\\n(tmc@spartan.ac.brocku.ca)\\n\\n\\n\""
      ]
     },
     "execution_count": 5,
     "metadata": {},
     "output_type": "execute_result"
    }
   ],
   "source": [
    "corpus[0]"
   ]
  },
  {
   "cell_type": "code",
   "execution_count": 6,
   "metadata": {
    "collapsed": true
   },
   "outputs": [],
   "source": [
    "vectorizer = TfidfVectorizer(stop_words=stopset,\n",
    "                                 use_idf=True, ngram_range=(1, 3))\n",
    "X = vectorizer.fit_transform(corpus)"
   ]
  },
  {
   "cell_type": "code",
   "execution_count": 7,
   "metadata": {
    "collapsed": false
   },
   "outputs": [
    {
     "data": {
      "text/plain": [
       "<1x215368 sparse matrix of type '<type 'numpy.float64'>'\n",
       "\twith 208 stored elements in Compressed Sparse Row format>"
      ]
     },
     "execution_count": 7,
     "metadata": {},
     "output_type": "execute_result"
    }
   ],
   "source": [
    "X[0]"
   ]
  },
  {
   "cell_type": "code",
   "execution_count": 8,
   "metadata": {
    "collapsed": false
   },
   "outputs": [
    {
     "name": "stdout",
     "output_type": "stream",
     "text": [
      "  (0, 192483)\t0.0563411036714\n",
      "  (0, 92075)\t0.0750476021338\n",
      "  (0, 98990)\t0.0750476021338\n",
      "  (0, 201674)\t0.0750476021338\n",
      "  (0, 48220)\t0.0750476021338\n",
      "  (0, 36587)\t0.0750476021338\n",
      "  (0, 95913)\t0.0750476021338\n",
      "  (0, 170766)\t0.0750476021338\n",
      "  (0, 30204)\t0.0750476021338\n",
      "  (0, 195873)\t0.0750476021338\n",
      "  (0, 189377)\t0.0750476021338\n",
      "  (0, 117460)\t0.0750476021338\n",
      "  (0, 141674)\t0.0750476021338\n",
      "  (0, 103565)\t0.0750476021338\n",
      "  (0, 1790)\t0.0750476021338\n",
      "  (0, 23651)\t0.0750476021338\n",
      "  (0, 134609)\t0.0750476021338\n",
      "  (0, 178735)\t0.0750476021338\n",
      "  (0, 107676)\t0.0750476021338\n",
      "  (0, 78430)\t0.0750476021338\n",
      "  (0, 74290)\t0.0750476021338\n",
      "  (0, 49918)\t0.0750476021338\n",
      "  (0, 48083)\t0.0750476021338\n",
      "  (0, 15928)\t0.0750476021338\n",
      "  (0, 36427)\t0.0750476021338\n",
      "  :\t:\n",
      "  (0, 63862)\t0.0166177739191\n",
      "  (0, 201801)\t0.0619683864543\n",
      "  (0, 201809)\t0.0593445895401\n",
      "  (0, 207750)\t0.0527046788316\n",
      "  (0, 60734)\t0.0678109406901\n",
      "  (0, 90246)\t0.13562188138\n",
      "  (0, 2286)\t0.0355395438346\n",
      "  (0, 112422)\t0.0104402955775\n",
      "  (0, 145199)\t0.0474950635668\n",
      "  (0, 203491)\t0.0286037762878\n",
      "  (0, 192265)\t0.0350754542944\n",
      "  (0, 130611)\t0.0347404428059\n",
      "  (0, 135340)\t0.0486782485388\n",
      "  (0, 37419)\t0.0593445895401\n",
      "  (0, 179758)\t0.0443067888815\n",
      "  (0, 197788)\t0.0187365363152\n",
      "  (0, 33992)\t0.0582445946145\n",
      "  (0, 136394)\t0.0108334912517\n",
      "  (0, 92055)\t0.25431106046\n",
      "  (0, 182465)\t0.0104402955775\n",
      "  (0, 40110)\t0.0572495281658\n",
      "  (0, 191888)\t0.0533376178027\n",
      "  (0, 33999)\t0.112682207343\n",
      "  (0, 178355)\t0.112682207343\n",
      "  (0, 192473)\t0.164195175032\n"
     ]
    }
   ],
   "source": [
    "print X[0]"
   ]
  },
  {
   "cell_type": "code",
   "execution_count": 9,
   "metadata": {
    "collapsed": false
   },
   "outputs": [
    {
     "data": {
      "text/plain": [
       "(973, 215368)"
      ]
     },
     "execution_count": 9,
     "metadata": {},
     "output_type": "execute_result"
    }
   ],
   "source": [
    "X.shape"
   ]
  },
  {
   "cell_type": "code",
   "execution_count": 10,
   "metadata": {
    "collapsed": false
   },
   "outputs": [
    {
     "data": {
      "text/plain": [
       "TruncatedSVD(algorithm='randomized', n_components=25, n_iter=100,\n",
       "       random_state=None, tol=0.0)"
      ]
     },
     "execution_count": 10,
     "metadata": {},
     "output_type": "execute_result"
    }
   ],
   "source": [
    "lsa = TruncatedSVD(n_components=25, n_iter=100)\n",
    "lsa.fit(X)"
   ]
  },
  {
   "cell_type": "code",
   "execution_count": 11,
   "metadata": {
    "collapsed": false
   },
   "outputs": [
    {
     "data": {
      "text/plain": [
       "array([ 0.00029112,  0.00029112,  0.00029112, ...,  0.00056131,\n",
       "        0.00056131,  0.00056131])"
      ]
     },
     "execution_count": 11,
     "metadata": {},
     "output_type": "execute_result"
    }
   ],
   "source": [
    "lsa.components_[0]"
   ]
  },
  {
   "cell_type": "code",
   "execution_count": 12,
   "metadata": {
    "collapsed": false
   },
   "outputs": [
    {
     "name": "stdout",
     "output_type": "stream",
     "text": [
      "Concept 0:\n",
      "edu\n",
      "image\n",
      "graphics\n",
      "jpeg\n",
      "com\n",
      "file\n",
      "bit\n",
      "images\n",
      "would\n",
      "files\n",
      " \n",
      "Concept 1:\n",
      "image\n",
      "jpeg\n",
      "file\n",
      "images\n",
      "data\n",
      "pub\n",
      "gif\n",
      "ftp\n",
      "available\n",
      "format\n",
      " \n",
      "Concept 2:\n",
      "jpeg\n",
      "gif\n",
      "image\n",
      "file\n",
      "jfif\n",
      "format\n",
      "quality\n",
      "bit\n",
      "version\n",
      "quicktime\n",
      " \n",
      "Concept 3:\n",
      "com\n",
      "data\n",
      "pub\n",
      "code\n",
      "processing\n",
      "ftp\n",
      "128\n",
      "get\n",
      "available\n",
      "server\n",
      " \n",
      "Concept 4:\n",
      "image\n",
      "data\n",
      "processing\n",
      "analysis\n",
      "host\n",
      "could\n",
      "hips\n",
      "tool\n",
      "images\n",
      "tools\n",
      " \n",
      "Concept 5:\n",
      "jpeg\n",
      "would\n",
      "lines\n",
      "ftp\n",
      "know\n",
      "com\n",
      "well\n",
      "systems\n",
      "organization university\n",
      "001200201pixel 2etc\n",
      " \n",
      "Concept 6:\n",
      "graphics\n",
      "image\n",
      "edu\n",
      "hips\n",
      "tools\n",
      "rayshade\n",
      "jpeg\n",
      "help\n",
      "analysis\n",
      "mail\n",
      " \n",
      "Concept 7:\n",
      "edu\n",
      "anyone\n",
      "display\n",
      "posting\n",
      "002\n",
      "ftp\n",
      "distribution world\n",
      "university\n",
      "like\n",
      "graphics\n",
      " \n",
      "Concept 8:\n",
      "com\n",
      "graphics\n",
      "001200201pixel 2etc one\n",
      "writes\n",
      "also\n",
      "reply\n",
      "subject\n",
      "world\n",
      "something\n",
      "bit\n",
      " \n",
      "Concept 9:\n",
      "image\n",
      "graphics\n",
      "like\n",
      "002\n",
      "com\n",
      "version\n",
      "002 202844\n",
      "isbn\n",
      "well\n",
      "program\n",
      " \n",
      "Concept 10:\n",
      "know\n",
      "article\n",
      "program\n",
      "mail\n",
      "bit\n",
      "host\n",
      "get\n",
      "package\n",
      "thanks\n",
      "need\n",
      " \n",
      "Concept 11:\n",
      "image\n",
      "edu\n",
      "002\n",
      "002 202844\n",
      "posting\n",
      "organization university\n",
      "program\n",
      "001200201pixel 2etc\n",
      "lines\n",
      "like\n",
      " \n",
      "Concept 12:\n",
      "know\n",
      "posting host\n",
      "001200201pixel 2etc\n",
      "000100255pixel 001200201pixel\n",
      "image\n",
      "subject\n",
      "files\n",
      "info\n",
      "format\n",
      "posting\n",
      " \n",
      "Concept 13:\n",
      "image\n",
      "computer\n",
      "like\n",
      "data\n",
      "university\n",
      "anyone\n",
      "use\n",
      "info\n",
      "bits\n",
      "mail\n",
      " \n",
      "Concept 14:\n",
      "program\n",
      "host\n",
      "university\n",
      "images\n",
      "help\n",
      "anyone\n",
      "version\n",
      "jpeg\n",
      "posting host\n",
      "know\n",
      " \n",
      "Concept 15:\n",
      "graphics\n",
      "also\n",
      "edu\n",
      "article\n",
      "get\n",
      "know\n",
      "polygon\n",
      "convert\n",
      "think\n",
      "keywords\n",
      " \n",
      "Concept 16:\n",
      "university\n",
      "subject\n",
      "organization\n",
      "mail\n",
      "edu\n",
      "001200201pixel 2etc\n",
      "one\n",
      "problem\n",
      "ve\n",
      "computer\n",
      " \n",
      "Concept 17:\n",
      "graphics\n",
      "posting\n",
      "would\n",
      "like\n",
      "know\n",
      "etc\n",
      "display\n",
      "trickle\n",
      "computer\n",
      "002 202844\n",
      " \n",
      "Concept 18:\n",
      "edu\n",
      "graphics\n",
      "available\n",
      "please\n",
      "000100255pixel 001200201pixel 2etc\n",
      "file\n",
      "software\n",
      "would\n",
      "free\n",
      "host\n",
      " \n",
      "Concept 19:\n",
      "writes\n",
      "trickle\n",
      "0000 213 396\n",
      "program\n",
      "get\n",
      "files\n",
      "also\n",
      "edu\n",
      "problem\n",
      "good\n",
      " \n",
      "Concept 20:\n",
      "lines\n",
      "subject\n",
      "edu\n",
      "file\n",
      "images\n",
      "3d\n",
      "001200201pixel 2etc one\n",
      "trickle\n",
      "000100255pixel\n",
      "know\n",
      " \n",
      "Concept 21:\n",
      "edu\n",
      "university\n",
      "need\n",
      "com\n",
      "would\n",
      "000100255pixel 001200201pixel 2etc\n",
      "file\n",
      "could\n",
      "002 202844 local\n",
      "one\n",
      " \n",
      "Concept 22:\n",
      "edu\n",
      "writes\n",
      "posting\n",
      "0000 213 396\n",
      "thanks\n",
      "know\n",
      "need\n",
      "like\n",
      "etc\n",
      "tiff\n",
      " \n",
      "Concept 23:\n",
      "000100255pixel 001200201pixel\n",
      "university\n",
      "thanks\n",
      "000100255pixel 001200201pixel 2etc\n",
      "ftp\n",
      "looking\n",
      "002\n",
      "world\n",
      "trickle\n",
      "gif\n",
      " \n",
      "Concept 24:\n",
      "001200201pixel 2etc one\n",
      "subject\n",
      "program\n",
      "image\n",
      "get\n",
      "000100255pixel 001200201pixel 2etc\n",
      "002 202844 local\n",
      "help\n",
      "lines\n",
      "002\n",
      " \n"
     ]
    }
   ],
   "source": [
    "terms = vectorizer.get_feature_names()\n",
    "for i, comp in enumerate(lsa.components_): \n",
    "    termsInComp = zip (terms,comp)\n",
    "    sortedTerms =  sorted(termsInComp, key=lambda x: x[1], reverse=True) [:10]\n",
    "    print \"Concept %d:\" % i\n",
    "    for term in sortedTerms:\n",
    "        print term[0]\n",
    "    print \" \""
   ]
  },
  {
   "cell_type": "code",
   "execution_count": null,
   "metadata": {
    "collapsed": true
   },
   "outputs": [],
   "source": []
  }
 ],
 "metadata": {
  "kernelspec": {
   "display_name": "Python 2",
   "language": "python",
   "name": "python2"
  },
  "language_info": {
   "codemirror_mode": {
    "name": "ipython",
    "version": 2
   },
   "file_extension": ".py",
   "mimetype": "text/x-python",
   "name": "python",
   "nbconvert_exporter": "python",
   "pygments_lexer": "ipython2",
   "version": "2.7.10"
  }
 },
 "nbformat": 4,
 "nbformat_minor": 0
}
