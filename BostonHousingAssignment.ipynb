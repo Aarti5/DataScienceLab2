{
 "cells": [
  {
   "cell_type": "code",
   "execution_count": 10,
   "metadata": {
    "collapsed": true
   },
   "outputs": [],
   "source": [
    "from sklearn import datasets\n",
    "import pandas as pd\n",
    "from sklearn.preprocessing import StandardScaler\n",
    "from sklearn.cross_validation import train_test_split\n",
    "from sklearn.metrics import mean_squared_error\n",
    "from sklearn.metrics import r2_score\n",
    "from sklearn.linear_model import LinearRegression\n",
    "from sklearn.linear_model import Lasso"
   ]
  },
  {
   "cell_type": "code",
   "execution_count": 2,
   "metadata": {
    "collapsed": false
   },
   "outputs": [
    {
     "name": "stdout",
     "output_type": "stream",
     "text": [
      "Boston House Prices dataset\n",
      "\n",
      "Notes\n",
      "------\n",
      "Data Set Characteristics:  \n",
      "\n",
      "    :Number of Instances: 506 \n",
      "\n",
      "    :Number of Attributes: 13 numeric/categorical predictive\n",
      "    \n",
      "    :Median Value (attribute 14) is usually the target\n",
      "\n",
      "    :Attribute Information (in order):\n",
      "        - CRIM     per capita crime rate by town\n",
      "        - ZN       proportion of residential land zoned for lots over 25,000 sq.ft.\n",
      "        - INDUS    proportion of non-retail business acres per town\n",
      "        - CHAS     Charles River dummy variable (= 1 if tract bounds river; 0 otherwise)\n",
      "        - NOX      nitric oxides concentration (parts per 10 million)\n",
      "        - RM       average number of rooms per dwelling\n",
      "        - AGE      proportion of owner-occupied units built prior to 1940\n",
      "        - DIS      weighted distances to five Boston employment centres\n",
      "        - RAD      index of accessibility to radial highways\n",
      "        - TAX      full-value property-tax rate per $10,000\n",
      "        - PTRATIO  pupil-teacher ratio by town\n",
      "        - B        1000(Bk - 0.63)^2 where Bk is the proportion of blacks by town\n",
      "        - LSTAT    % lower status of the population\n",
      "        - MEDV     Median value of owner-occupied homes in $1000's\n",
      "\n",
      "    :Missing Attribute Values: None\n",
      "\n",
      "    :Creator: Harrison, D. and Rubinfeld, D.L.\n",
      "\n",
      "This is a copy of UCI ML housing dataset.\n",
      "http://archive.ics.uci.edu/ml/datasets/Housing\n",
      "\n",
      "\n",
      "This dataset was taken from the StatLib library which is maintained at Carnegie Mellon University.\n",
      "\n",
      "The Boston house-price data of Harrison, D. and Rubinfeld, D.L. 'Hedonic\n",
      "prices and the demand for clean air', J. Environ. Economics & Management,\n",
      "vol.5, 81-102, 1978.   Used in Belsley, Kuh & Welsch, 'Regression diagnostics\n",
      "...', Wiley, 1980.   N.B. Various transformations are used in the table on\n",
      "pages 244-261 of the latter.\n",
      "\n",
      "The Boston house-price data has been used in many machine learning papers that address regression\n",
      "problems.   \n",
      "     \n",
      "**References**\n",
      "\n",
      "   - Belsley, Kuh & Welsch, 'Regression diagnostics: Identifying Influential Data and Sources of Collinearity', Wiley, 1980. 244-261.\n",
      "   - Quinlan,R. (1993). Combining Instance-Based and Model-Based Learning. In Proceedings on the Tenth International Conference of Machine Learning, 236-243, University of Massachusetts, Amherst. Morgan Kaufmann.\n",
      "   - many more! (see http://archive.ics.uci.edu/ml/datasets/Housing)\n",
      "\n"
     ]
    }
   ],
   "source": [
    "bean = datasets.load_boston()\n",
    "print bean.DESCR"
   ]
  },
  {
   "cell_type": "code",
   "execution_count": 3,
   "metadata": {
    "collapsed": true
   },
   "outputs": [],
   "source": [
    "def load_boston():\n",
    "    scaler = StandardScaler()\n",
    "    boston = datasets.load_boston()\n",
    "    X=boston.data\n",
    "    y=boston.target\n",
    "    X = scaler.fit_transform(X)\n",
    "    return train_test_split(X,y)"
   ]
  },
  {
   "cell_type": "code",
   "execution_count": 4,
   "metadata": {
    "collapsed": true
   },
   "outputs": [],
   "source": [
    "X_train, X_test, y_train, y_test = load_boston()"
   ]
  },
  {
   "cell_type": "code",
   "execution_count": 5,
   "metadata": {
    "collapsed": false
   },
   "outputs": [
    {
     "data": {
      "text/plain": [
       "(379L, 13L)"
      ]
     },
     "execution_count": 5,
     "metadata": {},
     "output_type": "execute_result"
    }
   ],
   "source": [
    "X_train.shape"
   ]
  },
  {
   "cell_type": "code",
   "execution_count": 6,
   "metadata": {
    "collapsed": false
   },
   "outputs": [
    {
     "data": {
      "text/plain": [
       "LinearRegression(copy_X=True, fit_intercept=True, n_jobs=1, normalize=False)"
      ]
     },
     "execution_count": 6,
     "metadata": {},
     "output_type": "execute_result"
    }
   ],
   "source": [
    "clf = LinearRegression()\n",
    "clf.fit(X_train, y_train)"
   ]
  },
  {
   "cell_type": "code",
   "execution_count": 7,
   "metadata": {
    "collapsed": false
   },
   "outputs": [
    {
     "data": {
      "text/plain": [
       "[(16.199999999999999, 20.816279031543992),\n",
       " (19.5, 18.436016873653969),\n",
       " (44.799999999999997, 37.909562567758385),\n",
       " (15.699999999999999, 17.098740555902932),\n",
       " (20.399999999999999, 20.4153330466164),\n",
       " (24.800000000000001, 25.790603528319568),\n",
       " (13.800000000000001, 12.952765661616015),\n",
       " (20.399999999999999, 18.991892305100212),\n",
       " (21.800000000000001, 20.638158112877207),\n",
       " (12.699999999999999, 12.596812935219381),\n",
       " (8.6999999999999993, 9.1803582265218111),\n",
       " (30.699999999999999, 32.041796521882858),\n",
       " (10.199999999999999, 7.3772835255839961),\n",
       " (12.0, 12.2790806942171),\n",
       " (24.0, 25.707196021629187),\n",
       " (23.0, 23.184180332305811),\n",
       " (24.699999999999999, 24.613658565769942),\n",
       " (18.199999999999999, 13.062101562060029),\n",
       " (6.2999999999999998, 11.321366423832698),\n",
       " (35.399999999999999, 30.816143640578655),\n",
       " (22.399999999999999, 21.912374140472863),\n",
       " (19.600000000000001, 17.50337595458533),\n",
       " (21.100000000000001, 22.959652083241991),\n",
       " (33.0, 22.704308308962229),\n",
       " (20.100000000000001, 14.362812145287451),\n",
       " (25.199999999999999, 27.378591029576938),\n",
       " (17.5, 16.710039950000862),\n",
       " (18.800000000000001, 22.537274870969028),\n",
       " (26.600000000000001, 27.711461083313839),\n",
       " (13.199999999999999, 9.237976145729057),\n",
       " (23.100000000000001, 24.50064425975976),\n",
       " (18.399999999999999, 15.545311614968071),\n",
       " (50.0, 30.434383734701278),\n",
       " (21.600000000000001, 25.199827016495824),\n",
       " (21.399999999999999, 24.827264180976115),\n",
       " (19.399999999999999, 23.082292736511164),\n",
       " (31.0, 35.051630164574952),\n",
       " (22.899999999999999, 18.935455582133724),\n",
       " (27.5, 23.744467405028267),\n",
       " (15.0, 24.873109130324519),\n",
       " (13.300000000000001, 16.440688471569839),\n",
       " (18.899999999999999, 22.061678414356212),\n",
       " (13.6, 12.455542299999493),\n",
       " (18.699999999999999, 21.491301581024988),\n",
       " (28.199999999999999, 33.173015975727466),\n",
       " (50.0, 24.245230759626864),\n",
       " (15.0, 19.636038982850046),\n",
       " (20.5, 22.496380708832227),\n",
       " (21.699999999999999, 23.241536558603897),\n",
       " (18.300000000000001, 20.458361568453),\n",
       " (11.800000000000001, 10.04386712218491),\n",
       " (26.199999999999999, 23.254904662460053),\n",
       " (14.0, 13.667941935632269),\n",
       " (24.5, 20.803474774013587),\n",
       " (17.399999999999999, 15.751855437777555),\n",
       " (25.0, 24.733778663056395),\n",
       " (23.199999999999999, 22.065934155245898),\n",
       " (29.600000000000001, 23.722471631552846),\n",
       " (8.4000000000000004, 14.488411569805333),\n",
       " (50.0, 39.223521582591474),\n",
       " (21.5, 24.762210972890262),\n",
       " (5.5999999999999996, 12.446237805322959),\n",
       " (23.800000000000001, 27.171105012105624),\n",
       " (16.100000000000001, 18.154913175483443),\n",
       " (23.899999999999999, 24.757714272107833),\n",
       " (8.8000000000000007, 4.5289210313104817),\n",
       " (24.100000000000001, 18.841574846762956),\n",
       " (17.800000000000001, 18.087351571849563),\n",
       " (32.700000000000003, 29.642138030592925),\n",
       " (17.5, 15.598584450795581),\n",
       " (12.699999999999999, 11.720297180743628),\n",
       " (48.799999999999997, 40.959617196910045),\n",
       " (19.899999999999999, 17.445272697045311),\n",
       " (25.0, 21.659629976668285),\n",
       " (28.399999999999999, 31.305450830925288),\n",
       " (32.0, 33.122395149957057),\n",
       " (21.0, 20.351057962666754),\n",
       " (26.600000000000001, 20.421853118139939),\n",
       " (29.399999999999999, 30.567779410378321),\n",
       " (15.199999999999999, 10.730032318751988),\n",
       " (17.199999999999999, 17.335523112709392),\n",
       " (11.9, 22.165242827249848),\n",
       " (22.5, 22.434868541578197),\n",
       " (9.5999999999999996, 14.395550959798351),\n",
       " (26.5, 24.631246629478373),\n",
       " (29.0, 31.309040036586396),\n",
       " (36.399999999999999, 31.942266294714734),\n",
       " (37.200000000000003, 33.019323907721649),\n",
       " (20.899999999999999, 20.295911237845914),\n",
       " (17.0, 21.146239493337106),\n",
       " (18.5, 19.640348866265427),\n",
       " (18.600000000000001, 15.444985986455492),\n",
       " (26.699999999999999, 31.935427056592314),\n",
       " (14.5, 17.858620166268604),\n",
       " (19.300000000000001, 20.2805883214766),\n",
       " (19.100000000000001, 25.19807163372511),\n",
       " (28.699999999999999, 30.342129475718764),\n",
       " (13.9, 17.840333139429116),\n",
       " (22.300000000000001, 27.456229717262666),\n",
       " (41.700000000000003, 37.35887625254351),\n",
       " (35.200000000000003, 33.741207842425041),\n",
       " (20.300000000000001, 24.212015336594582),\n",
       " (23.100000000000001, 16.730734824206067),\n",
       " (14.9, 16.745499388631963),\n",
       " (20.5, 24.388710148985709),\n",
       " (20.800000000000001, 17.75832296909585),\n",
       " (46.700000000000003, 34.924271686229822),\n",
       " (38.700000000000003, 34.929309998650346),\n",
       " (20.300000000000001, 22.210210913049188),\n",
       " (18.699999999999999, 18.103073140465728),\n",
       " (23.699999999999999, 28.375664818323521),\n",
       " (50.0, 38.878306891893267),\n",
       " (19.399999999999999, 19.423125124815684),\n",
       " (21.899999999999999, 23.554823767013659),\n",
       " (22.600000000000001, 23.061178322752372),\n",
       " (50.0, 43.381155639042134),\n",
       " (19.600000000000001, 21.065861576891884),\n",
       " (13.800000000000001, 16.738633575011431),\n",
       " (10.4, 15.385117858028369),\n",
       " (24.600000000000001, 24.035639866262542),\n",
       " (13.1, 20.02542558608425),\n",
       " (12.300000000000001, 13.406959100516252),\n",
       " (22.300000000000001, 27.361122672166125),\n",
       " (11.699999999999999, 15.041207266245124),\n",
       " (31.199999999999999, 27.523221904035449),\n",
       " (27.0, 31.76514455934235),\n",
       " (20.100000000000001, 18.589349201988743)]"
      ]
     },
     "execution_count": 7,
     "metadata": {},
     "output_type": "execute_result"
    }
   ],
   "source": [
    "zip (y_test, clf.predict(X_test))"
   ]
  },
  {
   "cell_type": "code",
   "execution_count": 8,
   "metadata": {
    "collapsed": false
   },
   "outputs": [
    {
     "data": {
      "text/plain": [
       "0.73485950564836"
      ]
     },
     "execution_count": 8,
     "metadata": {},
     "output_type": "execute_result"
    }
   ],
   "source": [
    "r2_score(y_train,clf.predict(X_train))"
   ]
  },
  {
   "cell_type": "code",
   "execution_count": 9,
   "metadata": {
    "collapsed": false
   },
   "outputs": [
    {
     "data": {
      "text/plain": [
       "21.714523316328375"
      ]
     },
     "execution_count": 9,
     "metadata": {},
     "output_type": "execute_result"
    }
   ],
   "source": [
    "mean_squared_error(y_train,clf.predict(X_train))"
   ]
  },
  {
   "cell_type": "code",
   "execution_count": 12,
   "metadata": {
    "collapsed": false
   },
   "outputs": [
    {
     "data": {
      "text/plain": [
       "Lasso(alpha=0.01, copy_X=True, fit_intercept=True, max_iter=1000,\n",
       "   normalize=False, positive=False, precompute=False, random_state=None,\n",
       "   selection='cyclic', tol=0.0001, warm_start=False)"
      ]
     },
     "execution_count": 12,
     "metadata": {},
     "output_type": "execute_result"
    }
   ],
   "source": [
    "la = Lasso(alpha=.01)\n",
    "la.fit(X_train, y_train)"
   ]
  },
  {
   "cell_type": "code",
   "execution_count": 13,
   "metadata": {
    "collapsed": false
   },
   "outputs": [
    {
     "data": {
      "text/plain": [
       "0.73630107154008928"
      ]
     },
     "execution_count": 13,
     "metadata": {},
     "output_type": "execute_result"
    }
   ],
   "source": [
    "r2_score(y_test,la.predict(X_test))"
   ]
  },
  {
   "cell_type": "code",
   "execution_count": 14,
   "metadata": {
    "collapsed": false
   },
   "outputs": [
    {
     "data": {
      "text/plain": [
       "Lasso(alpha=0.05, copy_X=True, fit_intercept=True, max_iter=1000,\n",
       "   normalize=False, positive=False, precompute=False, random_state=None,\n",
       "   selection='cyclic', tol=0.0001, warm_start=False)"
      ]
     },
     "execution_count": 14,
     "metadata": {},
     "output_type": "execute_result"
    }
   ],
   "source": [
    "la = Lasso(alpha=.05)\n",
    "la.fit(X_train, y_train)"
   ]
  },
  {
   "cell_type": "code",
   "execution_count": 15,
   "metadata": {
    "collapsed": false
   },
   "outputs": [
    {
     "data": {
      "text/plain": [
       "0.74218871169449341"
      ]
     },
     "execution_count": 15,
     "metadata": {},
     "output_type": "execute_result"
    }
   ],
   "source": [
    "r2_score(y_test,la.predict(X_test))"
   ]
  },
  {
   "cell_type": "code",
   "execution_count": 16,
   "metadata": {
    "collapsed": false
   },
   "outputs": [
    {
     "data": {
      "text/plain": [
       "Lasso(alpha=0.1, copy_X=True, fit_intercept=True, max_iter=1000,\n",
       "   normalize=False, positive=False, precompute=False, random_state=None,\n",
       "   selection='cyclic', tol=0.0001, warm_start=False)"
      ]
     },
     "execution_count": 16,
     "metadata": {},
     "output_type": "execute_result"
    }
   ],
   "source": [
    "la = Lasso(alpha=.1)\n",
    "la.fit(X_train, y_train)"
   ]
  },
  {
   "cell_type": "code",
   "execution_count": 17,
   "metadata": {
    "collapsed": false
   },
   "outputs": [
    {
     "data": {
      "text/plain": [
       "0.74071210265524701"
      ]
     },
     "execution_count": 17,
     "metadata": {},
     "output_type": "execute_result"
    }
   ],
   "source": [
    "r2_score(y_test,la.predict(X_test))"
   ]
  },
  {
   "cell_type": "code",
   "execution_count": 23,
   "metadata": {
    "collapsed": false
   },
   "outputs": [
    {
     "data": {
      "text/plain": [
       "Lasso(alpha=0.5, copy_X=True, fit_intercept=True, max_iter=1000,\n",
       "   normalize=False, positive=False, precompute=False, random_state=None,\n",
       "   selection='cyclic', tol=0.0001, warm_start=False)"
      ]
     },
     "execution_count": 23,
     "metadata": {},
     "output_type": "execute_result"
    }
   ],
   "source": [
    "la = Lasso(alpha=.5)\n",
    "la.fit(X_train, y_train)"
   ]
  },
  {
   "cell_type": "code",
   "execution_count": 24,
   "metadata": {
    "collapsed": false
   },
   "outputs": [
    {
     "data": {
      "text/plain": [
       "0.67965227010747453"
      ]
     },
     "execution_count": 24,
     "metadata": {},
     "output_type": "execute_result"
    }
   ],
   "source": [
    "r2_score(y_test,la.predict(X_test))"
   ]
  },
  {
   "cell_type": "code",
   "execution_count": 20,
   "metadata": {
    "collapsed": false
   },
   "outputs": [
    {
     "data": {
      "text/plain": [
       "Lasso(alpha=1.0, copy_X=True, fit_intercept=True, max_iter=1000,\n",
       "   normalize=False, positive=False, precompute=False, random_state=None,\n",
       "   selection='cyclic', tol=0.0001, warm_start=False)"
      ]
     },
     "execution_count": 20,
     "metadata": {},
     "output_type": "execute_result"
    }
   ],
   "source": [
    "la = Lasso(alpha=1.0)\n",
    "la.fit(X_train, y_train)"
   ]
  },
  {
   "cell_type": "code",
   "execution_count": 21,
   "metadata": {
    "collapsed": false
   },
   "outputs": [
    {
     "data": {
      "text/plain": [
       "0.65686237540021064"
      ]
     },
     "execution_count": 21,
     "metadata": {},
     "output_type": "execute_result"
    }
   ],
   "source": [
    "r2_score(y_test,la.predict(X_test))"
   ]
  },
  {
   "cell_type": "markdown",
   "metadata": {},
   "source": [
    "r2_score is larger with alpha=.05 so selecting alpha as .05"
   ]
  },
  {
   "cell_type": "code",
   "execution_count": 25,
   "metadata": {
    "collapsed": false
   },
   "outputs": [
    {
     "data": {
      "text/plain": [
       "Lasso(alpha=0.05, copy_X=True, fit_intercept=True, max_iter=1000,\n",
       "   normalize=False, positive=False, precompute=False, random_state=None,\n",
       "   selection='cyclic', tol=0.0001, warm_start=False)"
      ]
     },
     "execution_count": 25,
     "metadata": {},
     "output_type": "execute_result"
    }
   ],
   "source": [
    "la = Lasso(alpha=.05)\n",
    "la.fit(X_train, y_train)"
   ]
  },
  {
   "cell_type": "code",
   "execution_count": 26,
   "metadata": {
    "collapsed": false
   },
   "outputs": [
    {
     "data": {
      "text/plain": [
       "0.74218871169449341"
      ]
     },
     "execution_count": 26,
     "metadata": {},
     "output_type": "execute_result"
    }
   ],
   "source": [
    "r2_score(y_test,la.predict(X_test))"
   ]
  },
  {
   "cell_type": "code",
   "execution_count": 28,
   "metadata": {
    "collapsed": false
   },
   "outputs": [
    {
     "data": {
      "text/plain": [
       "23.700627378985235"
      ]
     },
     "execution_count": 28,
     "metadata": {},
     "output_type": "execute_result"
    }
   ],
   "source": [
    "mean_squared_error(y_test,la.predict(X_test))"
   ]
  },
  {
   "cell_type": "code",
   "execution_count": null,
   "metadata": {
    "collapsed": true
   },
   "outputs": [],
   "source": []
  }
 ],
 "metadata": {
  "kernelspec": {
   "display_name": "Python 2",
   "language": "python",
   "name": "python2"
  },
  "language_info": {
   "codemirror_mode": {
    "name": "ipython",
    "version": 2
   },
   "file_extension": ".py",
   "mimetype": "text/x-python",
   "name": "python",
   "nbconvert_exporter": "python",
   "pygments_lexer": "ipython2",
   "version": "2.7.10"
  }
 },
 "nbformat": 4,
 "nbformat_minor": 0
}
